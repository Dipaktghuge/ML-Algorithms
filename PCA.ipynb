{
 "cells": [
  {
   "cell_type": "code",
   "execution_count": 1,
   "id": "ea143896",
   "metadata": {},
   "outputs": [],
   "source": [
    "import numpy as np\n",
    "import pandas as pd\n",
    "import matplotlib.pyplot as plt\n",
    "from numpy.linalg import eig"
   ]
  },
  {
   "cell_type": "code",
   "execution_count": 2,
   "id": "5561d9df",
   "metadata": {},
   "outputs": [
    {
     "name": "stdout",
     "output_type": "stream",
     "text": [
      "[[3 4]\n",
      " [2 8]\n",
      " [6 9]]\n"
     ]
    }
   ],
   "source": [
    "Marks=np.array([[3,4],[2,8],[6,9]])\n",
    "print(Marks)"
   ]
  },
  {
   "cell_type": "code",
   "execution_count": 3,
   "id": "80f3959c",
   "metadata": {},
   "outputs": [
    {
     "data": {
      "text/html": [
       "<div>\n",
       "<style scoped>\n",
       "    .dataframe tbody tr th:only-of-type {\n",
       "        vertical-align: middle;\n",
       "    }\n",
       "\n",
       "    .dataframe tbody tr th {\n",
       "        vertical-align: top;\n",
       "    }\n",
       "\n",
       "    .dataframe thead th {\n",
       "        text-align: right;\n",
       "    }\n",
       "</style>\n",
       "<table border=\"1\" class=\"dataframe\">\n",
       "  <thead>\n",
       "    <tr style=\"text-align: right;\">\n",
       "      <th></th>\n",
       "      <th>Physics</th>\n",
       "      <th>Maths</th>\n",
       "    </tr>\n",
       "  </thead>\n",
       "  <tbody>\n",
       "    <tr>\n",
       "      <th>0</th>\n",
       "      <td>3</td>\n",
       "      <td>4</td>\n",
       "    </tr>\n",
       "    <tr>\n",
       "      <th>1</th>\n",
       "      <td>2</td>\n",
       "      <td>8</td>\n",
       "    </tr>\n",
       "    <tr>\n",
       "      <th>2</th>\n",
       "      <td>6</td>\n",
       "      <td>9</td>\n",
       "    </tr>\n",
       "  </tbody>\n",
       "</table>\n",
       "</div>"
      ],
      "text/plain": [
       "   Physics  Maths\n",
       "0        3      4\n",
       "1        2      8\n",
       "2        6      9"
      ]
     },
     "execution_count": 3,
     "metadata": {},
     "output_type": "execute_result"
    }
   ],
   "source": [
    "Marks_df=pd.DataFrame(Marks,columns=['Physics','Maths'])\n",
    "Marks_df"
   ]
  },
  {
   "cell_type": "code",
   "execution_count": 4,
   "id": "63d11419",
   "metadata": {},
   "outputs": [
    {
     "data": {
      "text/plain": [
       "<matplotlib.collections.PathCollection at 0x2048c28b220>"
      ]
     },
     "execution_count": 4,
     "metadata": {},
     "output_type": "execute_result"
    },
    {
     "data": {
      "image/png": "[encoded data removed]",
      "text/plain": [
       "<Figure size 640x480 with 1 Axes>"
      ]
     },
     "metadata": {},
     "output_type": "display_data"
    }
   ],
   "source": [
    "plt.scatter(Marks_df['Physics'],Marks_df['Maths'])"
   ]
  },
  {
   "cell_type": "code",
   "execution_count": 5,
   "id": "30995926",
   "metadata": {},
   "outputs": [
    {
     "name": "stdout",
     "output_type": "stream",
     "text": [
      "[3.66666667 7.        ]\n"
     ]
    }
   ],
   "source": [
    "#making data mean centric\n",
    "meanbycolomn=np.mean(Marks.T,axis=1) # T-transpose\n",
    "print(meanbycolomn)\n",
    "Scaled_data=Marks - meanbycolomn"
   ]
  },
  {
   "cell_type": "code",
   "execution_count": 6,
   "id": "719fa974",
   "metadata": {},
   "outputs": [
    {
     "data": {
      "text/plain": [
       "array([[3, 2, 6],\n",
       "       [4, 8, 9]])"
      ]
     },
     "execution_count": 6,
     "metadata": {},
     "output_type": "execute_result"
    }
   ],
   "source": [
    "Marks.T"
   ]
  },
  {
   "cell_type": "code",
   "execution_count": 7,
   "id": "ef85e689",
   "metadata": {},
   "outputs": [
    {
     "data": {
      "text/plain": [
       "array([[-0.66666667, -3.        ],\n",
       "       [-1.66666667,  1.        ],\n",
       "       [ 2.33333333,  2.        ]])"
      ]
     },
     "execution_count": 7,
     "metadata": {},
     "output_type": "execute_result"
    }
   ],
   "source": [
    "Scaled_data"
   ]
  },
  {
   "cell_type": "code",
   "execution_count": 8,
   "id": "6edf9bae",
   "metadata": {},
   "outputs": [
    {
     "data": {
      "text/plain": [
       "array([[4.33333333, 2.5       ],\n",
       "       [2.5       , 7.        ]])"
      ]
     },
     "execution_count": 8,
     "metadata": {},
     "output_type": "execute_result"
    }
   ],
   "source": [
    "# find out the covariance of scaled data\n",
    "Cov_mat=np.cov(Scaled_data.T)\n",
    "Cov_mat"
   ]
  },
  {
   "cell_type": "code",
   "execution_count": 9,
   "id": "5c8ee26c",
   "metadata": {},
   "outputs": [
    {
     "name": "stdout",
     "output_type": "stream",
     "text": [
      "[2.83333333 8.5       ]\n",
      "[[-0.85749293 -0.51449576]\n",
      " [ 0.51449576 -0.85749293]]\n"
     ]
    }
   ],
   "source": [
    "# find out eigen value and eigen vector of above covariance matrics\n",
    "Eval,Evec=eig(Cov_mat)\n",
    "print(Eval)\n",
    "print(Evec)"
   ]
  },
  {
   "cell_type": "code",
   "execution_count": 11,
   "id": "c2fc56e9",
   "metadata": {},
   "outputs": [
    {
     "name": "stdout",
     "output_type": "stream",
     "text": [
      "[[-9.71825316e-01  2.91547595e+00]\n",
      " [ 1.94365063e+00  1.11022302e-16]\n",
      " [-9.71825316e-01 -2.91547595e+00]]\n"
     ]
    }
   ],
   "source": [
    "#get original data projected to PCA as new axis\n",
    "projected_data=Evec.T.dot(Scaled_data.T)\n",
    "print(projected_data.T)"
   ]
  },
  {
   "cell_type": "code",
   "execution_count": 12,
   "id": "b64ab090",
   "metadata": {},
   "outputs": [
    {
     "data": {
      "text/plain": [
       "array([[ 2.91547595e+00, -9.71825316e-01],\n",
       "       [-6.86635020e-16,  1.94365063e+00],\n",
       "       [-2.91547595e+00, -9.71825316e-01]])"
      ]
     },
     "execution_count": 12,
     "metadata": {},
     "output_type": "execute_result"
    }
   ],
   "source": [
    "from sklearn.decomposition import PCA\n",
    "pca=PCA(n_components=2)\n",
    "pca.fit_transform(Marks)"
   ]
  },
  {
   "cell_type": "code",
   "execution_count": 13,
   "id": "3caeaca7",
   "metadata": {},
   "outputs": [
    {
     "data": {
      "text/plain": [
       "array([0.75, 0.25])"
      ]
     },
     "execution_count": 13,
     "metadata": {},
     "output_type": "execute_result"
    }
   ],
   "source": [
    "pca.explained_variance_ratio_ # variance explaination ratio by each PCA"
   ]
  },
  {
   "cell_type": "code",
   "execution_count": 15,
   "id": "87549c54",
   "metadata": {},
   "outputs": [],
   "source": [
    "PDF=pd.DataFrame(data=pca.fit_transform(Marks),columns=['PC1',\"PC2\"])"
   ]
  },
  {
   "cell_type": "code",
   "execution_count": 16,
   "id": "b3f16ac6",
   "metadata": {},
   "outputs": [
    {
     "data": {
      "text/html": [
       "<div>\n",
       "<style scoped>\n",
       "    .dataframe tbody tr th:only-of-type {\n",
       "        vertical-align: middle;\n",
       "    }\n",
       "\n",
       "    .dataframe tbody tr th {\n",
       "        vertical-align: top;\n",
       "    }\n",
       "\n",
       "    .dataframe thead th {\n",
       "        text-align: right;\n",
       "    }\n",
       "</style>\n",
       "<table border=\"1\" class=\"dataframe\">\n",
       "  <thead>\n",
       "    <tr style=\"text-align: right;\">\n",
       "      <th></th>\n",
       "      <th>PC1</th>\n",
       "      <th>PC2</th>\n",
       "    </tr>\n",
       "  </thead>\n",
       "  <tbody>\n",
       "    <tr>\n",
       "      <th>0</th>\n",
       "      <td>2.915476e+00</td>\n",
       "      <td>-0.971825</td>\n",
       "    </tr>\n",
       "    <tr>\n",
       "      <th>1</th>\n",
       "      <td>-6.866350e-16</td>\n",
       "      <td>1.943651</td>\n",
       "    </tr>\n",
       "    <tr>\n",
       "      <th>2</th>\n",
       "      <td>-2.915476e+00</td>\n",
       "      <td>-0.971825</td>\n",
       "    </tr>\n",
       "  </tbody>\n",
       "</table>\n",
       "</div>"
      ],
      "text/plain": [
       "            PC1       PC2\n",
       "0  2.915476e+00 -0.971825\n",
       "1 -6.866350e-16  1.943651\n",
       "2 -2.915476e+00 -0.971825"
      ]
     },
     "execution_count": 16,
     "metadata": {},
     "output_type": "execute_result"
    }
   ],
   "source": [
    "PDF"
   ]
  },
  {
   "cell_type": "code",
   "execution_count": 17,
   "id": "2d41c403",
   "metadata": {},
   "outputs": [
    {
     "data": {
      "text/plain": [
       "<matplotlib.collections.PathCollection at 0x2048f297b20>"
      ]
     },
     "execution_count": 17,
     "metadata": {},
     "output_type": "execute_result"
    },
    {
     "data": {
      "image/png": "[encoded data removed]",
      "text/plain": [
       "<Figure size 640x480 with 1 Axes>"
      ]
     },
     "metadata": {},
     "output_type": "display_data"
    }
   ],
   "source": [
    "plt.scatter(PDF['PC1'],PDF['PC2'])"
   ]
  },
  {
   "cell_type": "code",
   "execution_count": 18,
   "id": "170ce1ac",
   "metadata": {},
   "outputs": [
    {
     "data": {
      "text/plain": [
       "array([[3., 4.],\n",
       "       [2., 8.],\n",
       "       [6., 9.]])"
      ]
     },
     "execution_count": 18,
     "metadata": {},
     "output_type": "execute_result"
    }
   ],
   "source": [
    "# inverse transform\n",
    "pca.inverse_transform(pca.fit_transform(Marks))"
   ]
  },
  {
   "cell_type": "code",
   "execution_count": 21,
   "id": "89e55ee4",
   "metadata": {},
   "outputs": [
    {
     "data": {
      "text/html": [
       "<div>\n",
       "<style scoped>\n",
       "    .dataframe tbody tr th:only-of-type {\n",
       "        vertical-align: middle;\n",
       "    }\n",
       "\n",
       "    .dataframe tbody tr th {\n",
       "        vertical-align: top;\n",
       "    }\n",
       "\n",
       "    .dataframe thead th {\n",
       "        text-align: right;\n",
       "    }\n",
       "</style>\n",
       "<table border=\"1\" class=\"dataframe\">\n",
       "  <thead>\n",
       "    <tr style=\"text-align: right;\">\n",
       "      <th></th>\n",
       "      <th>PC1</th>\n",
       "      <th>PC2</th>\n",
       "    </tr>\n",
       "  </thead>\n",
       "  <tbody>\n",
       "    <tr>\n",
       "      <th>Physics</th>\n",
       "      <td>-0.514496</td>\n",
       "      <td>-0.857493</td>\n",
       "    </tr>\n",
       "    <tr>\n",
       "      <th>Maths</th>\n",
       "      <td>-0.857493</td>\n",
       "      <td>0.514496</td>\n",
       "    </tr>\n",
       "  </tbody>\n",
       "</table>\n",
       "</div>"
      ],
      "text/plain": [
       "              PC1       PC2\n",
       "Physics -0.514496 -0.857493\n",
       "Maths   -0.857493  0.514496"
      ]
     },
     "execution_count": 21,
     "metadata": {},
     "output_type": "execute_result"
    }
   ],
   "source": [
    "# how much weight each variable has in PCA\n",
    "loading=pd.DataFrame(pca.components_.T,columns=['PC1','PC2'],index=['Physics','Maths'])\n",
    "loading"
   ]
  }
 ],
 "metadata": {
  "kernelspec": {
   "display_name": "Python 3 (ipykernel)",
   "language": "python",
   "name": "python3"
  },
  "language_info": {
   "codemirror_mode": {
    "name": "ipython",
    "version": 3
   },
   "file_extension": ".py",
   "mimetype": "text/x-python",
   "name": "python",
   "nbconvert_exporter": "python",
   "pygments_lexer": "ipython3",
   "version": "3.9.13"
  }
 },
 "nbformat": 4,
 "nbformat_minor": 5
}
